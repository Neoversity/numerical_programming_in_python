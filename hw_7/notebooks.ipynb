{
  "nbformat": 4,
  "nbformat_minor": 0,
  "metadata": {
    "colab": {
      "provenance": []
    },
    "kernelspec": {
      "name": "python3",
      "display_name": "Python 3"
    },
    "language_info": {
      "name": "python"
    }
  },
  "cells": [
    {
      "cell_type": "markdown",
      "source": [
        "\n",
        "\n",
        "## 1. Завантаження та Розпакування Набору Даних\n"
      ],
      "metadata": {
        "id": "DULMhs9DYgwa"
      }
    },
    {
      "cell_type": "code",
      "execution_count": 1,
      "metadata": {
        "colab": {
          "base_uri": "https://localhost:8080/"
        },
        "id": "-tJtC1s7X8bK",
        "outputId": "c5ffc01c-9088-41b9-cf1b-770f6a9d2243"
      },
      "outputs": [
        {
          "output_type": "stream",
          "name": "stdout",
          "text": [
            "--2024-10-27 19:10:11--  https://github.com/goitacademy/NUMERICAL-PROGRAMMING-IN-PYTHON/blob/main/SpamEmailClassificationDataset.zip?raw=true\n",
            "Resolving github.com (github.com)... 140.82.112.4\n",
            "Connecting to github.com (github.com)|140.82.112.4|:443... connected.\n",
            "HTTP request sent, awaiting response... 302 Found\n",
            "Location: https://github.com/goitacademy/NUMERICAL-PROGRAMMING-IN-PYTHON/raw/refs/heads/main/SpamEmailClassificationDataset.zip [following]\n",
            "--2024-10-27 19:10:12--  https://github.com/goitacademy/NUMERICAL-PROGRAMMING-IN-PYTHON/raw/refs/heads/main/SpamEmailClassificationDataset.zip\n",
            "Reusing existing connection to github.com:443.\n",
            "HTTP request sent, awaiting response... 302 Found\n",
            "Location: https://raw.githubusercontent.com/goitacademy/NUMERICAL-PROGRAMMING-IN-PYTHON/refs/heads/main/SpamEmailClassificationDataset.zip [following]\n",
            "--2024-10-27 19:10:12--  https://raw.githubusercontent.com/goitacademy/NUMERICAL-PROGRAMMING-IN-PYTHON/refs/heads/main/SpamEmailClassificationDataset.zip\n",
            "Resolving raw.githubusercontent.com (raw.githubusercontent.com)... 185.199.108.133, 185.199.109.133, 185.199.110.133, ...\n",
            "Connecting to raw.githubusercontent.com (raw.githubusercontent.com)|185.199.108.133|:443... connected.\n",
            "HTTP request sent, awaiting response... 200 OK\n",
            "Length: 7577397 (7.2M) [application/zip]\n",
            "Saving to: ‘SpamEmailClassificationDataset.zip’\n",
            "\n",
            "SpamEmailClassifica 100%[===================>]   7.23M  --.-KB/s    in 0.1s    \n",
            "\n",
            "2024-10-27 19:10:12 (72.9 MB/s) - ‘SpamEmailClassificationDataset.zip’ saved [7577397/7577397]\n",
            "\n"
          ]
        }
      ],
      "source": [
        "!wget -O SpamEmailClassificationDataset.zip https://github.com/goitacademy/NUMERICAL-PROGRAMMING-IN-PYTHON/blob/main/SpamEmailClassificationDataset.zip?raw=true\n",
        "\n",
        "import zipfile\n",
        "\n",
        "with zipfile.ZipFile('SpamEmailClassificationDataset.zip', 'r') as zip_ref:\n",
        "    zip_ref.extractall()\n"
      ]
    },
    {
      "cell_type": "markdown",
      "source": [
        "## 2. Розпакувати файл даних функцією"
      ],
      "metadata": {
        "id": "Kv-MlAOtZFks"
      }
    },
    {
      "cell_type": "code",
      "source": [
        "!unzip SpamEmailClassificationDataset.zip\n"
      ],
      "metadata": {
        "colab": {
          "base_uri": "https://localhost:8080/"
        },
        "id": "1LJRnrWOZKZ1",
        "outputId": "971c1a75-1f60-4be4-b842-1c605e24d979"
      },
      "execution_count": 2,
      "outputs": [
        {
          "output_type": "stream",
          "name": "stdout",
          "text": [
            "Archive:  SpamEmailClassificationDataset.zip\n",
            "replace SpamEmailClassificationDataset/combined_data.csv? [y]es, [n]o, [A]ll, [N]one, [r]ename: "
          ]
        }
      ]
    },
    {
      "cell_type": "markdown",
      "source": [
        "## 3. У цій роботі нам знадобляться спеціалізовані бібліотеки для обробки текстів. Імпорт може виглядати так:"
      ],
      "metadata": {
        "id": "0D27W857aYyQ"
      }
    },
    {
      "cell_type": "code",
      "source": [
        "import pandas as pd\n",
        "import seaborn as sns\n",
        "import matplotlib.pyplot as plt\n",
        "\n",
        "import re\n",
        "from nltk.corpus import stopwords\n",
        "from nltk.tokenize import word_tokenize\n",
        "\n",
        "# Завантажимо стоп-слова\n",
        "import nltk\n",
        "nltk.download('stopwords')\n",
        "nltk.download('punkt')\n",
        "nltk.download('wordnet')\n",
        "\n",
        "stop_words = set(stopwords.words('english'))\n"
      ],
      "metadata": {
        "colab": {
          "base_uri": "https://localhost:8080/"
        },
        "id": "5tum7RKjabQj",
        "outputId": "9224a87b-5dcd-4490-c841-2aba29a65070"
      },
      "execution_count": 23,
      "outputs": [
        {
          "output_type": "stream",
          "name": "stderr",
          "text": [
            "[nltk_data] Downloading package stopwords to /root/nltk_data...\n",
            "[nltk_data]   Package stopwords is already up-to-date!\n",
            "[nltk_data] Downloading package punkt to /root/nltk_data...\n",
            "[nltk_data]   Package punkt is already up-to-date!\n",
            "[nltk_data] Downloading package wordnet to /root/nltk_data...\n",
            "[nltk_data]   Package wordnet is already up-to-date!\n"
          ]
        }
      ]
    },
    {
      "cell_type": "markdown",
      "source": [
        "## 4. Прочитати дані"
      ],
      "metadata": {
        "id": "RY9sf35Fax6w"
      }
    },
    {
      "cell_type": "code",
      "source": [
        "df = pd.read_csv('/content/SpamEmailClassificationDataset/combined_data.csv')\n"
      ],
      "metadata": {
        "id": "2Aj3baA3abWp"
      },
      "execution_count": 24,
      "outputs": []
    },
    {
      "cell_type": "code",
      "source": [
        "# Перевірка розподілу класів\n",
        "class_counts = df['label'].value_counts()\n",
        "print(class_counts)\n"
      ],
      "metadata": {
        "colab": {
          "base_uri": "https://localhost:8080/"
        },
        "id": "WWedxNn3bjUL",
        "outputId": "97a910aa-1295-48a1-8431-acdeea4248d1"
      },
      "execution_count": 25,
      "outputs": [
        {
          "output_type": "stream",
          "name": "stdout",
          "text": [
            "label\n",
            "1        7813\n",
            "0        7047\n",
            "label       1\n",
            "Name: count, dtype: int64\n"
          ]
        }
      ]
    },
    {
      "cell_type": "code",
      "source": [
        "# Побудова кругової діаграми з чітко заданими мітками\n",
        "plt.figure(figsize=(6, 6))\n",
        "value_counts = df['label'].value_counts()\n",
        "labels = ['Not Spam' if i == 0 else 'Spam' for i in value_counts.index]  # Визначаємо мітки явно\n",
        "plt.pie(value_counts, labels=labels, autopct='%1.1f%%', startangle=140)\n",
        "plt.title('Розподіл повідомлень за класами')\n",
        "plt.show()\n"
      ],
      "metadata": {
        "colab": {
          "base_uri": "https://localhost:8080/",
          "height": 521
        },
        "id": "JcliVbUfbopF",
        "outputId": "bca765b7-6ee6-40b4-f8e6-b636603ed19a"
      },
      "execution_count": 26,
      "outputs": [
        {
          "output_type": "display_data",
          "data": {
            "text/plain": [
              "<Figure size 600x600 with 1 Axes>"
            ],
            "image/png": "[encoded data removed]"
          },
          "metadata": {}
        }
      ]
    },
    {
      "cell_type": "code",
      "source": [
        "# Побудова гістограми\n",
        "sns.countplot(data=df, x='label')\n",
        "plt.xticks([0, 1], ['Not Spam', 'Spam'])\n",
        "plt.title('Розподіл повідомлень за класами')\n",
        "plt.show()\n"
      ],
      "metadata": {
        "colab": {
          "base_uri": "https://localhost:8080/",
          "height": 472
        },
        "id": "9amNr_LscPHc",
        "outputId": "cce9c15c-c51b-456d-ce89-50e15c95ea64"
      },
      "execution_count": 27,
      "outputs": [
        {
          "output_type": "display_data",
          "data": {
            "text/plain": [
              "<Figure size 640x480 with 1 Axes>"
            ],
            "image/png": "[encoded data removed]"
          },
          "metadata": {}
        }
      ]
    },
    {
      "cell_type": "markdown",
      "source": [
        "## 6. Застосувати методи обробки тексту бібліотеки nltk"
      ],
      "metadata": {
        "id": "c8VxaqYcdeay"
      }
    },
    {
      "cell_type": "code",
      "source": [
        "from nltk.stem import WordNetLemmatizer\n",
        "import re\n",
        "\n",
        "# Ініціалізація лематизатора та списку стоп-слів\n",
        "lemmatizer = WordNetLemmatizer()\n",
        "stop_words = set(stopwords.words(\"english\"))\n",
        "\n",
        "# Обробка тексту\n",
        "corpus = []\n",
        "for document in df[\"text\"]:\n",
        "    # Видалення небуквених символів та приведення до нижнього регістру\n",
        "    document = re.sub(\"[^a-zA-Z]\", \" \", document).lower()\n",
        "    # Розбиття тексту на слова\n",
        "    document = document.split()\n",
        "    # Лематизація та видалення стоп-слів\n",
        "    document = [lemmatizer.lemmatize(word) for word in document if word not in stop_words]\n",
        "    # Видалення повторів\n",
        "    document = list(set(document))\n",
        "    # Об'єднання слів назад у текстовий рядок\n",
        "    document = \" \".join(document)\n",
        "    corpus.append(document)\n",
        "\n",
        "# Збереження обробленого тексту в DataFrame\n",
        "df[\"text\"] = corpus\n",
        "\n",
        "# Перевірка перших кількох рядків\n",
        "df[[\"text\"]].head()\n"
      ],
      "metadata": {
        "colab": {
          "base_uri": "https://localhost:8080/",
          "height": 206
        },
        "id": "urGaAjXcdhwp",
        "outputId": "2d8082dc-c8b8-456b-fe5a-09167e3296c3"
      },
      "execution_count": 28,
      "outputs": [
        {
          "output_type": "execute_result",
          "data": {
            "text/plain": [
              "                                                text\n",
              "0                                               text\n",
              "1  ounce quell afterimage iambic flack alabaster ...\n",
              "2  wonder intrested ikud dmvrwm quality stopped r...\n",
              "3  antenna stepping thousand cnn webby shelf esca...\n",
              "4  day knowledge week test diploma hour borrowfor..."
            ],
            "text/html": [
              "\n",
              "  <div id=\"df-e5a82ccf-f0aa-4276-8463-2a2adc0d8275\" class=\"colab-df-container\">\n",
              "    <div>\n",
              "<style scoped>\n",
              "    .dataframe tbody tr th:only-of-type {\n",
              "        vertical-align: middle;\n",
              "    }\n",
              "\n",
              "    .dataframe tbody tr th {\n",
              "        vertical-align: top;\n",
              "    }\n",
              "\n",
              "    .dataframe thead th {\n",
              "        text-align: right;\n",
              "    }\n",
              "</style>\n",
              "<table border=\"1\" class=\"dataframe\">\n",
              "  <thead>\n",
              "    <tr style=\"text-align: right;\">\n",
              "      <th></th>\n",
              "      <th>text</th>\n",
              "    </tr>\n",
              "  </thead>\n",
              "  <tbody>\n",
              "    <tr>\n",
              "      <th>0</th>\n",
              "      <td>text</td>\n",
              "    </tr>\n",
              "    <tr>\n",
              "      <th>1</th>\n",
              "      <td>ounce quell afterimage iambic flack alabaster ...</td>\n",
              "    </tr>\n",
              "    <tr>\n",
              "      <th>2</th>\n",
              "      <td>wonder intrested ikud dmvrwm quality stopped r...</td>\n",
              "    </tr>\n",
              "    <tr>\n",
              "      <th>3</th>\n",
              "      <td>antenna stepping thousand cnn webby shelf esca...</td>\n",
              "    </tr>\n",
              "    <tr>\n",
              "      <th>4</th>\n",
              "      <td>day knowledge week test diploma hour borrowfor...</td>\n",
              "    </tr>\n",
              "  </tbody>\n",
              "</table>\n",
              "</div>\n",
              "    <div class=\"colab-df-buttons\">\n",
              "\n",
              "  <div class=\"colab-df-container\">\n",
              "    <button class=\"colab-df-convert\" onclick=\"convertToInteractive('df-e5a82ccf-f0aa-4276-8463-2a2adc0d8275')\"\n",
              "            title=\"Convert this dataframe to an interactive table.\"\n",
              "            style=\"display:none;\">\n",
              "\n",
              "  <svg xmlns=\"http://www.w3.org/2000/svg\" height=\"24px\" viewBox=\"0 -960 960 960\">\n",
              "    <path d=\"M120-120v-720h720v720H120Zm60-500h600v-160H180v160Zm220 220h160v-160H400v160Zm0 220h160v-160H400v160ZM180-400h160v-160H180v160Zm440 0h160v-160H620v160ZM180-180h160v-160H180v160Zm440 0h160v-160H620v160Z\"/>\n",
              "  </svg>\n",
              "    </button>\n",
              "\n",
              "  <style>\n",
              "    .colab-df-container {\n",
              "      display:flex;\n",
              "      gap: 12px;\n",
              "    }\n",
              "\n",
              "    .colab-df-convert {\n",
              "      background-color: #E8F0FE;\n",
              "      border: none;\n",
              "      border-radius: 50%;\n",
              "      cursor: pointer;\n",
              "      display: none;\n",
              "      fill: #1967D2;\n",
              "      height: 32px;\n",
              "      padding: 0 0 0 0;\n",
              "      width: 32px;\n",
              "    }\n",
              "\n",
              "    .colab-df-convert:hover {\n",
              "      background-color: #E2EBFA;\n",
              "      box-shadow: 0px 1px 2px rgba(60, 64, 67, 0.3), 0px 1px 3px 1px rgba(60, 64, 67, 0.15);\n",
              "      fill: #174EA6;\n",
              "    }\n",
              "\n",
              "    .colab-df-buttons div {\n",
              "      margin-bottom: 4px;\n",
              "    }\n",
              "\n",
              "    [theme=dark] .colab-df-convert {\n",
              "      background-color: #3B4455;\n",
              "      fill: #D2E3FC;\n",
              "    }\n",
              "\n",
              "    [theme=dark] .colab-df-convert:hover {\n",
              "      background-color: #434B5C;\n",
              "      box-shadow: 0px 1px 3px 1px rgba(0, 0, 0, 0.15);\n",
              "      filter: drop-shadow(0px 1px 2px rgba(0, 0, 0, 0.3));\n",
              "      fill: #FFFFFF;\n",
              "    }\n",
              "  </style>\n",
              "\n",
              "    <script>\n",
              "      const buttonEl =\n",
              "        document.querySelector('#df-e5a82ccf-f0aa-4276-8463-2a2adc0d8275 button.colab-df-convert');\n",
              "      buttonEl.style.display =\n",
              "        google.colab.kernel.accessAllowed ? 'block' : 'none';\n",
              "\n",
              "      async function convertToInteractive(key) {\n",
              "        const element = document.querySelector('#df-e5a82ccf-f0aa-4276-8463-2a2adc0d8275');\n",
              "        const dataTable =\n",
              "          await google.colab.kernel.invokeFunction('convertToInteractive',\n",
              "                                                    [key], {});\n",
              "        if (!dataTable) return;\n",
              "\n",
              "        const docLinkHtml = 'Like what you see? Visit the ' +\n",
              "          '<a target=\"_blank\" href=https://colab.research.google.com/notebooks/data_table.ipynb>data table notebook</a>'\n",
              "          + ' to learn more about interactive tables.';\n",
              "        element.innerHTML = '';\n",
              "        dataTable['output_type'] = 'display_data';\n",
              "        await google.colab.output.renderOutput(dataTable, element);\n",
              "        const docLink = document.createElement('div');\n",
              "        docLink.innerHTML = docLinkHtml;\n",
              "        element.appendChild(docLink);\n",
              "      }\n",
              "    </script>\n",
              "  </div>\n",
              "\n",
              "\n",
              "<div id=\"df-0691484b-6855-4a24-9e17-23fd26f740a6\">\n",
              "  <button class=\"colab-df-quickchart\" onclick=\"quickchart('df-0691484b-6855-4a24-9e17-23fd26f740a6')\"\n",
              "            title=\"Suggest charts\"\n",
              "            style=\"display:none;\">\n",
              "\n",
              "<svg xmlns=\"http://www.w3.org/2000/svg\" height=\"24px\"viewBox=\"0 0 24 24\"\n",
              "     width=\"24px\">\n",
              "    <g>\n",
              "        <path d=\"M19 3H5c-1.1 0-2 .9-2 2v14c0 1.1.9 2 2 2h14c1.1 0 2-.9 2-2V5c0-1.1-.9-2-2-2zM9 17H7v-7h2v7zm4 0h-2V7h2v10zm4 0h-2v-4h2v4z\"/>\n",
              "    </g>\n",
              "</svg>\n",
              "  </button>\n",
              "\n",
              "<style>\n",
              "  .colab-df-quickchart {\n",
              "      --bg-color: #E8F0FE;\n",
              "      --fill-color: #1967D2;\n",
              "      --hover-bg-color: #E2EBFA;\n",
              "      --hover-fill-color: #174EA6;\n",
              "      --disabled-fill-color: #AAA;\n",
              "      --disabled-bg-color: #DDD;\n",
              "  }\n",
              "\n",
              "  [theme=dark] .colab-df-quickchart {\n",
              "      --bg-color: #3B4455;\n",
              "      --fill-color: #D2E3FC;\n",
              "      --hover-bg-color: #434B5C;\n",
              "      --hover-fill-color: #FFFFFF;\n",
              "      --disabled-bg-color: #3B4455;\n",
              "      --disabled-fill-color: #666;\n",
              "  }\n",
              "\n",
              "  .colab-df-quickchart {\n",
              "    background-color: var(--bg-color);\n",
              "    border: none;\n",
              "    border-radius: 50%;\n",
              "    cursor: pointer;\n",
              "    display: none;\n",
              "    fill: var(--fill-color);\n",
              "    height: 32px;\n",
              "    padding: 0;\n",
              "    width: 32px;\n",
              "  }\n",
              "\n",
              "  .colab-df-quickchart:hover {\n",
              "    background-color: var(--hover-bg-color);\n",
              "    box-shadow: 0 1px 2px rgba(60, 64, 67, 0.3), 0 1px 3px 1px rgba(60, 64, 67, 0.15);\n",
              "    fill: var(--button-hover-fill-color);\n",
              "  }\n",
              "\n",
              "  .colab-df-quickchart-complete:disabled,\n",
              "  .colab-df-quickchart-complete:disabled:hover {\n",
              "    background-color: var(--disabled-bg-color);\n",
              "    fill: var(--disabled-fill-color);\n",
              "    box-shadow: none;\n",
              "  }\n",
              "\n",
              "  .colab-df-spinner {\n",
              "    border: 2px solid var(--fill-color);\n",
              "    border-color: transparent;\n",
              "    border-bottom-color: var(--fill-color);\n",
              "    animation:\n",
              "      spin 1s steps(1) infinite;\n",
              "  }\n",
              "\n",
              "  @keyframes spin {\n",
              "    0% {\n",
              "      border-color: transparent;\n",
              "      border-bottom-color: var(--fill-color);\n",
              "      border-left-color: var(--fill-color);\n",
              "    }\n",
              "    20% {\n",
              "      border-color: transparent;\n",
              "      border-left-color: var(--fill-color);\n",
              "      border-top-color: var(--fill-color);\n",
              "    }\n",
              "    30% {\n",
              "      border-color: transparent;\n",
              "      border-left-color: var(--fill-color);\n",
              "      border-top-color: var(--fill-color);\n",
              "      border-right-color: var(--fill-color);\n",
              "    }\n",
              "    40% {\n",
              "      border-color: transparent;\n",
              "      border-right-color: var(--fill-color);\n",
              "      border-top-color: var(--fill-color);\n",
              "    }\n",
              "    60% {\n",
              "      border-color: transparent;\n",
              "      border-right-color: var(--fill-color);\n",
              "    }\n",
              "    80% {\n",
              "      border-color: transparent;\n",
              "      border-right-color: var(--fill-color);\n",
              "      border-bottom-color: var(--fill-color);\n",
              "    }\n",
              "    90% {\n",
              "      border-color: transparent;\n",
              "      border-bottom-color: var(--fill-color);\n",
              "    }\n",
              "  }\n",
              "</style>\n",
              "\n",
              "  <script>\n",
              "    async function quickchart(key) {\n",
              "      const quickchartButtonEl =\n",
              "        document.querySelector('#' + key + ' button');\n",
              "      quickchartButtonEl.disabled = true;  // To prevent multiple clicks.\n",
              "      quickchartButtonEl.classList.add('colab-df-spinner');\n",
              "      try {\n",
              "        const charts = await google.colab.kernel.invokeFunction(\n",
              "            'suggestCharts', [key], {});\n",
              "      } catch (error) {\n",
              "        console.error('Error during call to suggestCharts:', error);\n",
              "      }\n",
              "      quickchartButtonEl.classList.remove('colab-df-spinner');\n",
              "      quickchartButtonEl.classList.add('colab-df-quickchart-complete');\n",
              "    }\n",
              "    (() => {\n",
              "      let quickchartButtonEl =\n",
              "        document.querySelector('#df-0691484b-6855-4a24-9e17-23fd26f740a6 button');\n",
              "      quickchartButtonEl.style.display =\n",
              "        google.colab.kernel.accessAllowed ? 'block' : 'none';\n",
              "    })();\n",
              "  </script>\n",
              "</div>\n",
              "    </div>\n",
              "  </div>\n"
            ],
            "application/vnd.google.colaboratory.intrinsic+json": {
              "type": "dataframe",
              "summary": "{\n  \"name\": \"df[[\\\"text\\\"]]\",\n  \"rows\": 5,\n  \"fields\": [\n    {\n      \"column\": \"text\",\n      \"properties\": {\n        \"dtype\": \"string\",\n        \"num_unique_values\": 5,\n        \"samples\": [\n          \"ounce quell afterimage iambic flack alabaster hummingbird bunkmate feather opec bowl dyad hadron heft yoghurt bread divert desperate valkyrie moment\",\n          \"day knowledge week test diploma hour borrowfor book obtain university sun examination degree escapenumber required jun dreamed come confidentiality earning experience escapenumbershall non prestigious prosperous professional prestige unversities power career sunday qualify always accredited money position future assured holiday based present including class\",\n          \"wonder intrested ikud dmvrwm quality stopped reducing rfwur website qnb wulvob mediucine xannax imitrex escapenumber cost lot painkiller much visit valium levitra soma pay life meridia ap mediecines ultram net drug worse average many tablet weight ever cialis remunerativ dfuaeirxygiq vioxx cysfrt viagra get improve online medircations branded ambien man flonax http\"\n        ],\n        \"semantic_type\": \"\",\n        \"description\": \"\"\n      }\n    }\n  ]\n}"
            }
          },
          "metadata": {},
          "execution_count": 28
        }
      ]
    },
    {
      "cell_type": "markdown",
      "source": [
        "## 7. Підготувати структури даних train_spam, train_ham, test_emails"
      ],
      "metadata": {
        "id": "GqKp-8MxeZ6u"
      }
    },
    {
      "cell_type": "code",
      "source": [
        "# Повторне завантаження даних із пропуском першого рядка\n",
        "df = pd.read_csv('/content/SpamEmailClassificationDataset/combined_data.csv')\n",
        "\n",
        "# Перевіримо, чи перший рядок містить заголовки\n",
        "if df.iloc[0]['label'] == 'label':\n",
        "    # Видалимо перший рядок, якщо він містить заголовки\n",
        "    df = df.drop(0).reset_index(drop=True)\n",
        "\n",
        "# Перетворимо колонку 'label' на числовий тип, щоб уникнути подальших проблем\n",
        "df['label'] = df['label'].astype(int)\n",
        "\n",
        "# Перевірка результатів\n",
        "print(df.head())\n",
        "print(df['label'].unique())"
      ],
      "metadata": {
        "colab": {
          "base_uri": "https://localhost:8080/"
        },
        "id": "7V1fZh7Gf2os",
        "outputId": "42ce257f-f6c0-410b-b2b5-6e395f7e65a1"
      },
      "execution_count": 34,
      "outputs": [
        {
          "output_type": "stream",
          "name": "stdout",
          "text": [
            "   label                                               text\n",
            "0      1  ounce feather bowl hummingbird opec moment ala...\n",
            "1      1  wulvob get your medircations online qnb ikud v...\n",
            "2      0   computer connection from cnn com wednesday es...\n",
            "3      1  university degree obtain a prosperous future m...\n",
            "4      0  thanks for all your answers guys i know i shou...\n",
            "[1 0]\n"
          ]
        }
      ]
    },
    {
      "cell_type": "code",
      "source": [
        "from sklearn.model_selection import train_test_split\n",
        "\n",
        "# Розділення даних на навчальну і тестову вибірки\n",
        "train_data, test_data = train_test_split(df, test_size=0.2, random_state=42, stratify=df['label'])\n",
        "\n",
        "# Створення списків спам і не-спам повідомлень для тренування\n",
        "train_spam = train_data[train_data['label'] == 1]['text'].tolist()  # Тільки спам повідомлення\n",
        "train_ham = train_data[train_data['label'] == 0]['text'].tolist()   # Тільки не-спам повідомлення\n",
        "\n",
        "# Створення словника для тестових повідомлень (індекси як ключі, тексти як значення)\n",
        "test_emails = {index: text for index, text in enumerate(test_data['text'].tolist())}\n",
        "\n",
        "# Перевірка результатів\n",
        "print(\"Кількість спам повідомлень у train_spam:\", len(train_spam))\n",
        "print(\"Кількість не-спам повідомлень у train_ham:\", len(train_ham))\n",
        "print(\"Кількість тестових повідомлень у test_emails:\", len(test_emails))\n"
      ],
      "metadata": {
        "colab": {
          "base_uri": "https://localhost:8080/"
        },
        "id": "4s-8zM3Dhlgf",
        "outputId": "5cfc7a2c-36b7-4b90-f064-1dcab158307e"
      },
      "execution_count": 35,
      "outputs": [
        {
          "output_type": "stream",
          "name": "stdout",
          "text": [
            "Кількість спам повідомлень у train_spam: 6250\n",
            "Кількість не-спам повідомлень у train_ham: 5638\n",
            "Кількість тестових повідомлень у test_emails: 2972\n"
          ]
        }
      ]
    },
    {
      "cell_type": "markdown",
      "source": [
        "## 8. Застосувати реалізацію алгоритму наївного Баєса."
      ],
      "metadata": {
        "id": "Jn60ODHqilSS"
      }
    },
    {
      "cell_type": "code",
      "source": [
        "from collections import defaultdict\n",
        "\n",
        "# Розрахунок апостеріорних ймовірностей класів\n",
        "prob_spam = len(train_spam) / (len(train_spam) + len(train_ham))\n",
        "prob_ham = len(train_ham) / (len(train_spam) + len(train_ham))\n",
        "\n",
        "# Підрахунок кількості кожного слова у спам і не-спам повідомленнях\n",
        "dict_spamicity = defaultdict(int)\n",
        "dict_hamicity = defaultdict(int)\n",
        "\n",
        "# Лічильники загальної кількості слів у спам і не-спам\n",
        "total_spam, total_ham = 0, 0\n",
        "\n",
        "# Підрахунок частоти слів для кожного класу\n",
        "for email in train_spam:\n",
        "    words = email.split()\n",
        "    total_spam += len(words)\n",
        "    for word in words:\n",
        "        dict_spamicity[word] += 1\n",
        "\n",
        "for email in train_ham:\n",
        "    words = email.split()\n",
        "    total_ham += len(words)\n",
        "    for word in words:\n",
        "        dict_hamicity[word] += 1\n",
        "\n",
        "# Фільтрація рідкісних слів (з'являються менше двох разів)\n",
        "dict_spamicity = {word: count for word, count in dict_spamicity.items() if count > 1}\n",
        "dict_hamicity = {word: count for word, count in dict_hamicity.items() if count > 1}\n",
        "\n",
        "# Функція для множення всіх ймовірностей слів\n",
        "def mult(list_):\n",
        "    total_prob = 1\n",
        "    for i in list_:\n",
        "        total_prob *= i\n",
        "    return total_prob\n",
        "\n",
        "# Змінена функція Bayes з посиленим згладжуванням\n",
        "def Bayes(email):\n",
        "    # Визначення ймовірностей для поточного повідомлення\n",
        "    probs_s = []\n",
        "    probs_h = []\n",
        "\n",
        "    print(\"Аналіз слів у повідомленні:\")\n",
        "\n",
        "    for word in email.split():\n",
        "        # Ймовірність для спаму з мінімальним згладжуванням\n",
        "        pr_WS = dict_spamicity.get(word, 1) / total_spam if total_spam > 0 else 1e-6\n",
        "\n",
        "        # Ймовірність для не-спаму з мінімальним згладжуванням\n",
        "        pr_WH = dict_hamicity.get(word, 1) / total_ham if total_ham > 0 else 1e-6\n",
        "\n",
        "        # Додаємо мінімальне згладжування (щоб уникнути надто малих ймовірностей)\n",
        "        pr_WS = max(pr_WS, 1e-6)\n",
        "        pr_WH = max(pr_WH, 1e-6)\n",
        "\n",
        "        probs_s.append(pr_WS)\n",
        "        probs_h.append(pr_WH)\n",
        "\n",
        "        # Виведення ймовірностей для кожного слова\n",
        "        print(f\"Слово: '{word}', Ймовірність спаму: {pr_WS}, Ймовірність не-спаму: {pr_WH}\")\n",
        "\n",
        "    try:\n",
        "        final_classification = prob_spam * mult(probs_s) / ((prob_spam * mult(probs_s)) + (prob_ham * mult(probs_h)))\n",
        "    except ZeroDivisionError:\n",
        "        final_classification = 0.5  # Нейтральна ймовірність у разі поділу на нуль\n",
        "\n",
        "    if final_classification >= 0.5:\n",
        "        print(f'\\nEmail is SPAM: with spam confidence of {final_classification * 100:.2f}%')\n",
        "    else:\n",
        "        print(f'\\nEmail is HAM: with spam confidence of {(1 - final_classification) * 100:.2f}%')\n",
        "\n",
        "    return final_classification\n"
      ],
      "metadata": {
        "id": "mWh5Hx98j9Vr"
      },
      "execution_count": 48,
      "outputs": []
    },
    {
      "cell_type": "code",
      "source": [
        "# Тестування на одному повідомленні\n",
        "test_email = test_emails[100]\n",
        "classification = Bayes(test_email)"
      ],
      "metadata": {
        "colab": {
          "base_uri": "https://localhost:8080/"
        },
        "id": "_Hr788YrkBhy",
        "outputId": "e72f86f1-3a7d-4d38-e634-9d5b6b5d2f66"
      },
      "execution_count": 51,
      "outputs": [
        {
          "output_type": "stream",
          "name": "stdout",
          "text": [
            "Аналіз слів у повідомленні:\n",
            "Слово: 'asset', Ймовірність спаму: 1.4800827599960116e-05, Ймовірність не-спаму: 5.31719820427781e-05\n",
            "Слово: 'solutions', Ймовірність спаму: 0.0002165594775152059, Ймовірність не-спаму: 5.6650522924081344e-05\n",
            "Слово: ',', Ймовірність спаму: 0.01373361003091036, Ймовірність не-спаму: 0.014137784010439598\n",
            "Слово: '2100', Ймовірність спаму: 3.115963705254761e-06, Ймовірність не-спаму: 1e-06\n",
            "Слово: 'llc', Ймовірність спаму: 6.543523781034998e-05, Ймовірність не-спаму: 7.25524240957533e-05\n",
            "Слово: '16420', Ймовірність спаму: 1e-06, Ймовірність не-спаму: 1e-06\n",
            "Слово: 'se', Ймовірність спаму: 0.00013866038488383688, Ймовірність не-спаму: 8.100030909320402e-05\n",
            "Слово: 'mcgillivary', Ймовірність спаму: 1e-06, Ймовірність не-спаму: 1e-06\n",
            "Слово: '#', Ймовірність спаму: 0.0002570670056835178, Ймовірність не-спаму: 0.00021765727228725988\n",
            "Слово: '103', Ймовірність спаму: 2.336972778941071e-06, Ймовірність не-спаму: 4.472409704532737e-06\n",
            "Слово: '-', Ймовірність спаму: 0.008318844102103899, Ймовірність не-спаму: 0.020632716770244364\n",
            "Слово: '1007', Ймовірність спаму: 1e-06, Ймовірність не-спаму: 1e-06\n",
            "Слово: 'vancouver', Ймовірність спаму: 3.3496609831488685e-05, Ймовірність не-спаму: 3.47854088130324e-06\n",
            "Слово: ',', Ймовірність спаму: 0.01373361003091036, Ймовірність не-спаму: 0.014137784010439598\n",
            "Слово: 'wa', Ймовірність спаму: 0.00010672175690497557, Ймовірність не-спаму: 4.571796586855687e-05\n",
            "Слово: '98607', Ймовірність спаму: 1e-06, Ймовірність не-спаму: 1e-06\n",
            "\n",
            "Email is SPAM: with spam confidence of 96.77%\n"
          ]
        }
      ]
    },
    {
      "cell_type": "markdown",
      "source": [
        "## 9. Проаналізувати якість побудованого класифікатора: які слова мають найбільшу ймовірність зустрітися у спамі?"
      ],
      "metadata": {
        "id": "aq8bEuQmlB2M"
      }
    },
    {
      "cell_type": "code",
      "source": [
        "# Перетворення частотного словника на ймовірності для кожного слова у спамі\n",
        "spam_word_probs = {word: count / total_spam for word, count in dict_spamicity.items()}\n",
        "\n",
        "# Сортування слів за ймовірністю зустрітися у спамі\n",
        "top_spam_words = sorted(spam_word_probs.items(), key=lambda x: x[1], reverse=True)[:20]\n",
        "\n",
        "# Виведення топ-20 слів, які найчастіше зустрічаються у спамі\n",
        "print(\"Топ-20 слів з найбільшою ймовірністю зустрітися у спамі:\")\n",
        "for word, prob in top_spam_words:\n",
        "    print(f\"Слово: '{word}', Ймовірність: {prob:.4f}\")\n"
      ],
      "metadata": {
        "colab": {
          "base_uri": "https://localhost:8080/"
        },
        "id": "Wgv2qR0alEae",
        "outputId": "4a596acc-1a67-4017-eff4-5add7813cf8b"
      },
      "execution_count": 52,
      "outputs": [
        {
          "output_type": "stream",
          "name": "stdout",
          "text": [
            "Топ-20 слів з найбільшою ймовірністю зустрітися у спамі:\n",
            "Слово: 'escapenumber', Ймовірність: 0.0399\n",
            "Слово: 'the', Ймовірність: 0.0289\n",
            "Слово: '.', Ймовірність: 0.0205\n",
            "Слово: 'escapelong', Ймовірність: 0.0199\n",
            "Слово: 'to', Ймовірність: 0.0197\n",
            "Слово: 'and', Ймовірність: 0.0181\n",
            "Слово: 'of', Ймовірність: 0.0163\n",
            "Слово: ',', Ймовірність: 0.0137\n",
            "Слово: 'a', Ймовірність: 0.0132\n",
            "Слово: 'you', Ймовірність: 0.0120\n",
            "Слово: 'in', Ймовірність: 0.0101\n",
            "Слово: 'for', Ймовірність: 0.0084\n",
            "Слово: '-', Ймовірність: 0.0083\n",
            "Слово: 'your', Ймовірність: 0.0082\n",
            "Слово: 'is', Ймовірність: 0.0078\n",
            "Слово: 'this', Ймовірність: 0.0065\n",
            "Слово: 'i', Ймовірність: 0.0055\n",
            "Слово: 'that', Ймовірність: 0.0054\n",
            "Слово: 'with', Ймовірність: 0.0053\n",
            "Слово: 'be', Ймовірність: 0.0048\n"
          ]
        }
      ]
    },
    {
      "cell_type": "markdown",
      "source": [
        "## Висновок про якість побудованого класифікатора спаму\n",
        "\n",
        "1. Найспамніші слова: Аналіз показав, що серед слів з найбільшою ймовірністю зустрітися у спамі є як специфічні терміни (escapenumber, escapelong), так і поширені слова, такі як the, to, and, you. Це означає, що класифікатор визначає спам на основі частотності як загальних слів, так і специфічних спам-термінів.\n",
        "\n",
        "2. Загальні слова: Наявність загальних слів, таких як the, to, and, може впливати на загальний результат. Висока частотність загальних слів може бути наслідком недостатньої фільтрації або підвищеної частоти їх у спамових текстах, що робить їх статистично значущими для класифікації.\n",
        "\n",
        "3. Унікальні спам-слова: Специфічні слова, такі як escapenumber і escapelong, ймовірно, є характерними для спаму, і їхнє виявлення є ключовим для успішної класифікації. Ці слова можна використовувати як індикатори спаму.\n",
        "\n",
        "4. Загальна ефективність: На основі цього аналізу модель показує здатність розрізняти спамові повідомлення з високою точністю. Проте, для подальшого покращення можна:\n",
        "\n",
        "  - Використовувати додаткову фільтрацію загальних слів, щоб зменшити їхній вплив.\n",
        "  - Додати більше специфічних спам-термінів у навчальний набір, що посилить точність класифікації.\n",
        "\n",
        "Цей аналіз допомагає зрозуміти, які слова найбільш характерні для спаму, і підтверджує, що класифікатор правильно виявляє ці патерни в тексті."
      ],
      "metadata": {
        "id": "1kE3ny-flZxe"
      }
    }
  ]
}